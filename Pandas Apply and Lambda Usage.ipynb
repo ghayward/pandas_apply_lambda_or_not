{
 "cells": [
  {
   "cell_type": "code",
   "execution_count": 1,
   "id": "311b7d10",
   "metadata": {},
   "outputs": [],
   "source": [
    "import numpy as np\n",
    "import pandas as pd"
   ]
  },
  {
   "cell_type": "code",
   "execution_count": 2,
   "id": "0295ac4d",
   "metadata": {},
   "outputs": [],
   "source": [
    "d = {\n",
    "        'nickname': ['bobg89', 'coolkid34','livelaughlove38'], \n",
    "        'state': ['NY', 'CA','TN'],\n",
    "        'score': [100, 200,300]\n",
    "    }\n",
    "df = pd.DataFrame(data=d)\n",
    "df_for_non_lambda = df.copy()\n",
    "df_next_level = df.copy()"
   ]
  },
  {
   "cell_type": "code",
   "execution_count": 3,
   "id": "cc91a2ae",
   "metadata": {},
   "outputs": [
    {
     "data": {
      "text/html": [
       "<div>\n",
       "<style scoped>\n",
       "    .dataframe tbody tr th:only-of-type {\n",
       "        vertical-align: middle;\n",
       "    }\n",
       "\n",
       "    .dataframe tbody tr th {\n",
       "        vertical-align: top;\n",
       "    }\n",
       "\n",
       "    .dataframe thead th {\n",
       "        text-align: right;\n",
       "    }\n",
       "</style>\n",
       "<table border=\"1\" class=\"dataframe\">\n",
       "  <thead>\n",
       "    <tr style=\"text-align: right;\">\n",
       "      <th></th>\n",
       "      <th>nickname</th>\n",
       "      <th>state</th>\n",
       "      <th>score</th>\n",
       "    </tr>\n",
       "  </thead>\n",
       "  <tbody>\n",
       "    <tr>\n",
       "      <th>0</th>\n",
       "      <td>bobg89</td>\n",
       "      <td>NY</td>\n",
       "      <td>100</td>\n",
       "    </tr>\n",
       "    <tr>\n",
       "      <th>1</th>\n",
       "      <td>coolkid34</td>\n",
       "      <td>CA</td>\n",
       "      <td>200</td>\n",
       "    </tr>\n",
       "    <tr>\n",
       "      <th>2</th>\n",
       "      <td>livelaughlove38</td>\n",
       "      <td>TN</td>\n",
       "      <td>300</td>\n",
       "    </tr>\n",
       "  </tbody>\n",
       "</table>\n",
       "</div>"
      ],
      "text/plain": [
       "          nickname state  score\n",
       "0           bobg89    NY    100\n",
       "1        coolkid34    CA    200\n",
       "2  livelaughlove38    TN    300"
      ]
     },
     "execution_count": 3,
     "metadata": {},
     "output_type": "execute_result"
    }
   ],
   "source": [
    "df"
   ]
  },
  {
   "cell_type": "code",
   "execution_count": 4,
   "id": "8a2f6c1f",
   "metadata": {},
   "outputs": [],
   "source": [
    "def add_some_love(state_value,score_value,name):\n",
    "     if state_value == name:\n",
    "          return score_value + 50\n",
    "     else:\n",
    "          return score_value"
   ]
  },
  {
   "cell_type": "code",
   "execution_count": 5,
   "id": "5066bd40",
   "metadata": {},
   "outputs": [
    {
     "data": {
      "text/html": [
       "<div>\n",
       "<style scoped>\n",
       "    .dataframe tbody tr th:only-of-type {\n",
       "        vertical-align: middle;\n",
       "    }\n",
       "\n",
       "    .dataframe tbody tr th {\n",
       "        vertical-align: top;\n",
       "    }\n",
       "\n",
       "    .dataframe thead th {\n",
       "        text-align: right;\n",
       "    }\n",
       "</style>\n",
       "<table border=\"1\" class=\"dataframe\">\n",
       "  <thead>\n",
       "    <tr style=\"text-align: right;\">\n",
       "      <th></th>\n",
       "      <th>nickname</th>\n",
       "      <th>state</th>\n",
       "      <th>score</th>\n",
       "      <th>love_added</th>\n",
       "    </tr>\n",
       "  </thead>\n",
       "  <tbody>\n",
       "    <tr>\n",
       "      <th>0</th>\n",
       "      <td>bobg89</td>\n",
       "      <td>NY</td>\n",
       "      <td>100</td>\n",
       "      <td>150</td>\n",
       "    </tr>\n",
       "    <tr>\n",
       "      <th>1</th>\n",
       "      <td>coolkid34</td>\n",
       "      <td>CA</td>\n",
       "      <td>200</td>\n",
       "      <td>200</td>\n",
       "    </tr>\n",
       "    <tr>\n",
       "      <th>2</th>\n",
       "      <td>livelaughlove38</td>\n",
       "      <td>TN</td>\n",
       "      <td>300</td>\n",
       "      <td>300</td>\n",
       "    </tr>\n",
       "  </tbody>\n",
       "</table>\n",
       "</div>"
      ],
      "text/plain": [
       "          nickname state  score  love_added\n",
       "0           bobg89    NY    100         150\n",
       "1        coolkid34    CA    200         200\n",
       "2  livelaughlove38    TN    300         300"
      ]
     },
     "execution_count": 5,
     "metadata": {},
     "output_type": "execute_result"
    }
   ],
   "source": [
    "df['love_added'] = df.apply(lambda x: add_some_love(x.state, x.score, 'NY'), axis=1)\n",
    "df"
   ]
  },
  {
   "cell_type": "code",
   "execution_count": 6,
   "id": "6bc1315f",
   "metadata": {},
   "outputs": [
    {
     "data": {
      "text/html": [
       "<div>\n",
       "<style scoped>\n",
       "    .dataframe tbody tr th:only-of-type {\n",
       "        vertical-align: middle;\n",
       "    }\n",
       "\n",
       "    .dataframe tbody tr th {\n",
       "        vertical-align: top;\n",
       "    }\n",
       "\n",
       "    .dataframe thead th {\n",
       "        text-align: right;\n",
       "    }\n",
       "</style>\n",
       "<table border=\"1\" class=\"dataframe\">\n",
       "  <thead>\n",
       "    <tr style=\"text-align: right;\">\n",
       "      <th></th>\n",
       "      <th>nickname</th>\n",
       "      <th>state</th>\n",
       "      <th>score</th>\n",
       "    </tr>\n",
       "  </thead>\n",
       "  <tbody>\n",
       "    <tr>\n",
       "      <th>0</th>\n",
       "      <td>bobg89</td>\n",
       "      <td>NY</td>\n",
       "      <td>100</td>\n",
       "    </tr>\n",
       "    <tr>\n",
       "      <th>1</th>\n",
       "      <td>coolkid34</td>\n",
       "      <td>CA</td>\n",
       "      <td>200</td>\n",
       "    </tr>\n",
       "    <tr>\n",
       "      <th>2</th>\n",
       "      <td>livelaughlove38</td>\n",
       "      <td>TN</td>\n",
       "      <td>300</td>\n",
       "    </tr>\n",
       "  </tbody>\n",
       "</table>\n",
       "</div>"
      ],
      "text/plain": [
       "          nickname state  score\n",
       "0           bobg89    NY    100\n",
       "1        coolkid34    CA    200\n",
       "2  livelaughlove38    TN    300"
      ]
     },
     "execution_count": 6,
     "metadata": {},
     "output_type": "execute_result"
    }
   ],
   "source": [
    "df_for_non_lambda"
   ]
  },
  {
   "cell_type": "code",
   "execution_count": 7,
   "id": "f021ca69",
   "metadata": {},
   "outputs": [],
   "source": [
    "#Big thanks to https://stackoverflow.com/a/71608269/11736959\n",
    "def add_some_love_non_lambda(row, name, add):\n",
    "   if row.state == name:\n",
    "       row.score = row.score + add\n",
    "   return row"
   ]
  },
  {
   "cell_type": "code",
   "execution_count": 8,
   "id": "683365ef",
   "metadata": {},
   "outputs": [
    {
     "data": {
      "text/html": [
       "<div>\n",
       "<style scoped>\n",
       "    .dataframe tbody tr th:only-of-type {\n",
       "        vertical-align: middle;\n",
       "    }\n",
       "\n",
       "    .dataframe tbody tr th {\n",
       "        vertical-align: top;\n",
       "    }\n",
       "\n",
       "    .dataframe thead th {\n",
       "        text-align: right;\n",
       "    }\n",
       "</style>\n",
       "<table border=\"1\" class=\"dataframe\">\n",
       "  <thead>\n",
       "    <tr style=\"text-align: right;\">\n",
       "      <th></th>\n",
       "      <th>nickname</th>\n",
       "      <th>state</th>\n",
       "      <th>score</th>\n",
       "    </tr>\n",
       "  </thead>\n",
       "  <tbody>\n",
       "    <tr>\n",
       "      <th>0</th>\n",
       "      <td>bobg89</td>\n",
       "      <td>NY</td>\n",
       "      <td>140</td>\n",
       "    </tr>\n",
       "    <tr>\n",
       "      <th>1</th>\n",
       "      <td>coolkid34</td>\n",
       "      <td>CA</td>\n",
       "      <td>200</td>\n",
       "    </tr>\n",
       "    <tr>\n",
       "      <th>2</th>\n",
       "      <td>livelaughlove38</td>\n",
       "      <td>TN</td>\n",
       "      <td>300</td>\n",
       "    </tr>\n",
       "  </tbody>\n",
       "</table>\n",
       "</div>"
      ],
      "text/plain": [
       "          nickname state  score\n",
       "0           bobg89    NY    140\n",
       "1        coolkid34    CA    200\n",
       "2  livelaughlove38    TN    300"
      ]
     },
     "execution_count": 8,
     "metadata": {},
     "output_type": "execute_result"
    }
   ],
   "source": [
    "df_for_non_lambda = df_for_non_lambda.apply(add_some_love_non_lambda, axis=1, args=('NY',40))\n",
    "df_for_non_lambda"
   ]
  },
  {
   "cell_type": "code",
   "execution_count": 9,
   "id": "ee190d05",
   "metadata": {},
   "outputs": [],
   "source": [
    "def add_some_love_non_lambda_new(row, new_col, name, add):\n",
    "   if row.state == name:\n",
    "       row[new_col] = row.score + add\n",
    "   else:\n",
    "       row[new_col] = row.score  \n",
    "   return row"
   ]
  },
  {
   "cell_type": "code",
   "execution_count": 10,
   "id": "3e97a2e2",
   "metadata": {},
   "outputs": [
    {
     "data": {
      "text/html": [
       "<div>\n",
       "<style scoped>\n",
       "    .dataframe tbody tr th:only-of-type {\n",
       "        vertical-align: middle;\n",
       "    }\n",
       "\n",
       "    .dataframe tbody tr th {\n",
       "        vertical-align: top;\n",
       "    }\n",
       "\n",
       "    .dataframe thead th {\n",
       "        text-align: right;\n",
       "    }\n",
       "</style>\n",
       "<table border=\"1\" class=\"dataframe\">\n",
       "  <thead>\n",
       "    <tr style=\"text-align: right;\">\n",
       "      <th></th>\n",
       "      <th>nickname</th>\n",
       "      <th>state</th>\n",
       "      <th>score</th>\n",
       "      <th>love_added</th>\n",
       "    </tr>\n",
       "  </thead>\n",
       "  <tbody>\n",
       "    <tr>\n",
       "      <th>0</th>\n",
       "      <td>bobg89</td>\n",
       "      <td>NY</td>\n",
       "      <td>100</td>\n",
       "      <td>140</td>\n",
       "    </tr>\n",
       "    <tr>\n",
       "      <th>1</th>\n",
       "      <td>coolkid34</td>\n",
       "      <td>CA</td>\n",
       "      <td>200</td>\n",
       "      <td>200</td>\n",
       "    </tr>\n",
       "    <tr>\n",
       "      <th>2</th>\n",
       "      <td>livelaughlove38</td>\n",
       "      <td>TN</td>\n",
       "      <td>300</td>\n",
       "      <td>300</td>\n",
       "    </tr>\n",
       "  </tbody>\n",
       "</table>\n",
       "</div>"
      ],
      "text/plain": [
       "          nickname state  score  love_added\n",
       "0           bobg89    NY    100         140\n",
       "1        coolkid34    CA    200         200\n",
       "2  livelaughlove38    TN    300         300"
      ]
     },
     "execution_count": 10,
     "metadata": {},
     "output_type": "execute_result"
    }
   ],
   "source": [
    "df_next_level = df_next_level.apply(add_some_love_non_lambda_new, axis=1, args=('love_added','NY',40))\n",
    "df_next_level"
   ]
  },
  {
   "cell_type": "code",
   "execution_count": null,
   "id": "cc544cbb",
   "metadata": {},
   "outputs": [],
   "source": []
  }
 ],
 "metadata": {
  "kernelspec": {
   "display_name": "Python 3 (ipykernel)",
   "language": "python",
   "name": "python3"
  },
  "language_info": {
   "codemirror_mode": {
    "name": "ipython",
    "version": 3
   },
   "file_extension": ".py",
   "mimetype": "text/x-python",
   "name": "python",
   "nbconvert_exporter": "python",
   "pygments_lexer": "ipython3",
   "version": "3.9.7"
  }
 },
 "nbformat": 4,
 "nbformat_minor": 5
}
